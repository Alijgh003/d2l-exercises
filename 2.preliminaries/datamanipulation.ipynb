{
  "nbformat": 4,
  "nbformat_minor": 0,
  "metadata": {
    "colab": {
      "provenance": [],
      "authorship_tag": "ABX9TyNwZIIQbVno5oOMJXMFsmAq",
      "include_colab_link": true
    },
    "kernelspec": {
      "name": "python3",
      "display_name": "Python 3"
    },
    "language_info": {
      "name": "python"
    }
  },
  "cells": [
    {
      "cell_type": "markdown",
      "metadata": {
        "id": "view-in-github",
        "colab_type": "text"
      },
      "source": [
        "<a href=\"https://colab.research.google.com/github/Alijgh003/d2l-exercises/blob/main/2.preliminaries/datamanipulation.ipynb\" target=\"_parent\"><img src=\"https://colab.research.google.com/assets/colab-badge.svg\" alt=\"Open In Colab\"/></a>"
      ]
    },
    {
      "cell_type": "code",
      "execution_count": null,
      "metadata": {
        "id": "y66deUYPfagy"
      },
      "outputs": [],
      "source": [
        "import torch"
      ]
    },
    {
      "cell_type": "code",
      "source": [
        "a = torch.arange(12 , dtype=torch.float32)"
      ],
      "metadata": {
        "id": "2ddQ6pJqft-B"
      },
      "execution_count": null,
      "outputs": []
    },
    {
      "cell_type": "code",
      "source": [
        "a"
      ],
      "metadata": {
        "colab": {
          "base_uri": "https://localhost:8080/"
        },
        "id": "UQYhzSisf48_",
        "outputId": "a331957c-cd02-4a33-f89d-2eeef6d11e9f"
      },
      "execution_count": null,
      "outputs": [
        {
          "output_type": "execute_result",
          "data": {
            "text/plain": [
              "tensor([ 0.,  1.,  2.,  3.,  4.,  5.,  6.,  7.,  8.,  9., 10., 11.])"
            ]
          },
          "metadata": {},
          "execution_count": 3
        }
      ]
    },
    {
      "cell_type": "code",
      "source": [
        "b = a.numel()\n",
        "b"
      ],
      "metadata": {
        "colab": {
          "base_uri": "https://localhost:8080/"
        },
        "id": "QKjZdgwmf-uQ",
        "outputId": "416d7372-c762-4f3c-84f9-f137ad4574b9"
      },
      "execution_count": null,
      "outputs": [
        {
          "output_type": "execute_result",
          "data": {
            "text/plain": [
              "12"
            ]
          },
          "metadata": {},
          "execution_count": 5
        }
      ]
    },
    {
      "cell_type": "code",
      "source": [
        "a.shape"
      ],
      "metadata": {
        "colab": {
          "base_uri": "https://localhost:8080/"
        },
        "id": "4PxkJ8twgGMx",
        "outputId": "4eb0e5b2-4beb-4364-cdc9-80921bb707f1"
      },
      "execution_count": null,
      "outputs": [
        {
          "output_type": "execute_result",
          "data": {
            "text/plain": [
              "torch.Size([12])"
            ]
          },
          "metadata": {},
          "execution_count": 6
        }
      ]
    },
    {
      "cell_type": "code",
      "source": [
        "a.reshape(3,4)\n"
      ],
      "metadata": {
        "colab": {
          "base_uri": "https://localhost:8080/"
        },
        "id": "FDaACfctgLgS",
        "outputId": "14d94ee3-6a20-4b06-b494-96dc653343b0"
      },
      "execution_count": null,
      "outputs": [
        {
          "output_type": "execute_result",
          "data": {
            "text/plain": [
              "tensor([[ 0.,  1.,  2.,  3.],\n",
              "        [ 4.,  5.,  6.,  7.],\n",
              "        [ 8.,  9., 10., 11.]])"
            ]
          },
          "metadata": {},
          "execution_count": 8
        }
      ]
    },
    {
      "cell_type": "code",
      "source": [
        "xx = torch.randn(3,3,3)"
      ],
      "metadata": {
        "id": "zOkveuZSjP4a"
      },
      "execution_count": null,
      "outputs": []
    },
    {
      "cell_type": "code",
      "source": [
        "xx"
      ],
      "metadata": {
        "colab": {
          "base_uri": "https://localhost:8080/"
        },
        "id": "e99vR5t6jSJ0",
        "outputId": "a7592306-13b3-4d95-be43-8b108997ca80"
      },
      "execution_count": null,
      "outputs": [
        {
          "output_type": "execute_result",
          "data": {
            "text/plain": [
              "tensor([[[-1.6392, -2.9405, -0.8742],\n",
              "         [-1.1590, -0.2439,  0.9320],\n",
              "         [ 0.3901,  1.9292,  1.1479]],\n",
              "\n",
              "        [[-0.1119,  0.4554,  0.1127],\n",
              "         [ 0.2474,  0.1454, -0.3639],\n",
              "         [ 2.1808, -0.4764,  0.1420]],\n",
              "\n",
              "        [[ 1.6254,  1.4768, -0.4031],\n",
              "         [ 0.3653,  0.3485,  0.6039],\n",
              "         [-0.3123, -2.4781,  0.5353]]])"
            ]
          },
          "metadata": {},
          "execution_count": 13
        }
      ]
    },
    {
      "cell_type": "code",
      "source": [
        "xx = torch.randn(4,4)\n",
        "xx"
      ],
      "metadata": {
        "colab": {
          "base_uri": "https://localhost:8080/"
        },
        "id": "uvmH07R8jTVl",
        "outputId": "34343628-f589-436b-fe40-f9e0b970c3ad"
      },
      "execution_count": null,
      "outputs": [
        {
          "output_type": "execute_result",
          "data": {
            "text/plain": [
              "tensor([[ 1.2855, -1.2426, -0.3519, -0.7168],\n",
              "        [-0.3230,  0.4581, -0.9097, -0.2686],\n",
              "        [-0.0559,  0.1690, -0.4626,  0.4679],\n",
              "        [-0.1384,  1.3250,  1.3588,  0.0482]])"
            ]
          },
          "metadata": {},
          "execution_count": 19
        }
      ]
    },
    {
      "cell_type": "code",
      "source": [
        "xx[3,2]"
      ],
      "metadata": {
        "colab": {
          "base_uri": "https://localhost:8080/"
        },
        "id": "NfynyrgkkmU3",
        "outputId": "08dfde5e-8f04-4dc8-8ffe-5dd0258f4ac1"
      },
      "execution_count": null,
      "outputs": [
        {
          "output_type": "execute_result",
          "data": {
            "text/plain": [
              "tensor(1.3588)"
            ]
          },
          "metadata": {},
          "execution_count": 22
        }
      ]
    },
    {
      "cell_type": "code",
      "source": [
        "yy = torch.randn(4,4)\n",
        "\n",
        "yy"
      ],
      "metadata": {
        "colab": {
          "base_uri": "https://localhost:8080/"
        },
        "id": "s4ANlK34lBk9",
        "outputId": "65c3357e-4821-4a3f-c243-a6cf8fc73983"
      },
      "execution_count": null,
      "outputs": [
        {
          "output_type": "execute_result",
          "data": {
            "text/plain": [
              "tensor([[ 0.0938,  0.5293, -0.7047, -1.2604],\n",
              "        [ 0.0306,  2.2500,  1.5359,  0.2834],\n",
              "        [ 0.3271, -2.0599, -1.3924, -1.7307],\n",
              "        [-0.8323, -0.3305,  0.9413,  1.3619]])"
            ]
          },
          "metadata": {},
          "execution_count": 24
        }
      ]
    },
    {
      "cell_type": "code",
      "source": [
        "uu = xx * yy\n",
        "uu"
      ],
      "metadata": {
        "colab": {
          "base_uri": "https://localhost:8080/"
        },
        "id": "k7hgVb9AlFQZ",
        "outputId": "29ec2aaf-7eb8-4b67-c7e2-7c513b304d70"
      },
      "execution_count": null,
      "outputs": [
        {
          "output_type": "execute_result",
          "data": {
            "text/plain": [
              "tensor([[ 0.1206, -0.6577,  0.2480,  0.9034],\n",
              "        [-0.0099,  1.0307, -1.3972, -0.0761],\n",
              "        [-0.0183, -0.3482,  0.6441, -0.8098],\n",
              "        [ 0.1152, -0.4379,  1.2790,  0.0657]])"
            ]
          },
          "metadata": {},
          "execution_count": 26
        }
      ]
    },
    {
      "cell_type": "code",
      "source": [
        "vv = xx + yy\n",
        "vv"
      ],
      "metadata": {
        "colab": {
          "base_uri": "https://localhost:8080/"
        },
        "id": "OIZL6hNclJFd",
        "outputId": "793f7509-880c-4ecf-ab67-5ba3908f9150"
      },
      "execution_count": null,
      "outputs": [
        {
          "output_type": "execute_result",
          "data": {
            "text/plain": [
              "tensor([[ 1.3793, -0.7134, -1.0567, -1.9772],\n",
              "        [-0.2923,  2.7081,  0.6262,  0.0148],\n",
              "        [ 0.2712, -1.8909, -1.8550, -1.2627],\n",
              "        [-0.9708,  0.9946,  2.3001,  1.4102]])"
            ]
          },
          "metadata": {},
          "execution_count": 28
        }
      ]
    },
    {
      "cell_type": "code",
      "source": [
        "torch.exp(xx)"
      ],
      "metadata": {
        "colab": {
          "base_uri": "https://localhost:8080/"
        },
        "id": "Q0kckxxOlOrN",
        "outputId": "9ce461e9-6836-44c1-a2c9-cde88f1f12ab"
      },
      "execution_count": null,
      "outputs": [
        {
          "output_type": "execute_result",
          "data": {
            "text/plain": [
              "tensor([[3.6165, 0.2886, 0.7033, 0.4883],\n",
              "        [0.7240, 1.5810, 0.4026, 0.7644],\n",
              "        [0.9456, 1.1842, 0.6297, 1.5967],\n",
              "        [0.8707, 3.7624, 3.8917, 1.0494]])"
            ]
          },
          "metadata": {},
          "execution_count": 29
        }
      ]
    },
    {
      "cell_type": "code",
      "source": [
        "xx == yy"
      ],
      "metadata": {
        "colab": {
          "base_uri": "https://localhost:8080/"
        },
        "id": "6W0zlQxIlxPV",
        "outputId": "be121ed6-e4fe-4cb6-ada3-93ad874217a9"
      },
      "execution_count": null,
      "outputs": [
        {
          "output_type": "execute_result",
          "data": {
            "text/plain": [
              "tensor([[False, False, False, False],\n",
              "        [False, False, False, False],\n",
              "        [False, False, False, False],\n",
              "        [False, False, False, False]])"
            ]
          },
          "metadata": {},
          "execution_count": 30
        }
      ]
    },
    {
      "cell_type": "code",
      "source": [
        "m = torch.arange(4,dtype=torch.float32).reshape(4,1)\n",
        "n = torch.arange(3,dtype=torch.float32).reshape(1,3)\n",
        "m,n"
      ],
      "metadata": {
        "colab": {
          "base_uri": "https://localhost:8080/"
        },
        "id": "MGDM_fMllzcy",
        "outputId": "21c1d8cf-7bba-4e5b-a74a-1d8b760bf00c"
      },
      "execution_count": null,
      "outputs": [
        {
          "output_type": "execute_result",
          "data": {
            "text/plain": [
              "(tensor([[0.],\n",
              "         [1.],\n",
              "         [2.],\n",
              "         [3.]]),\n",
              " tensor([[0., 1., 2.]]))"
            ]
          },
          "metadata": {},
          "execution_count": 32
        }
      ]
    },
    {
      "cell_type": "code",
      "source": [
        "m + n"
      ],
      "metadata": {
        "colab": {
          "base_uri": "https://localhost:8080/"
        },
        "id": "iEOegClbmufc",
        "outputId": "2d5fdf5b-b7ca-4a64-f8b0-0957ea63aada"
      },
      "execution_count": null,
      "outputs": [
        {
          "output_type": "execute_result",
          "data": {
            "text/plain": [
              "tensor([[0., 1., 2.],\n",
              "        [1., 2., 3.],\n",
              "        [2., 3., 4.],\n",
              "        [3., 4., 5.]])"
            ]
          },
          "metadata": {},
          "execution_count": 33
        }
      ]
    },
    {
      "cell_type": "code",
      "source": [
        "m * n"
      ],
      "metadata": {
        "colab": {
          "base_uri": "https://localhost:8080/"
        },
        "id": "pODSZefXmz6r",
        "outputId": "10c4bc23-efa8-4a9f-8ee9-7e5f4ae64131"
      },
      "execution_count": null,
      "outputs": [
        {
          "output_type": "execute_result",
          "data": {
            "text/plain": [
              "tensor([[0., 0., 0.],\n",
              "        [0., 1., 2.],\n",
              "        [0., 2., 4.],\n",
              "        [0., 3., 6.]])"
            ]
          },
          "metadata": {},
          "execution_count": 34
        }
      ]
    },
    {
      "cell_type": "code",
      "source": [
        "xx,  yy"
      ],
      "metadata": {
        "colab": {
          "base_uri": "https://localhost:8080/"
        },
        "id": "L3YJldrhn58W",
        "outputId": "365fe4f1-d233-4753-9e02-bdaadc639cd0"
      },
      "execution_count": null,
      "outputs": [
        {
          "output_type": "execute_result",
          "data": {
            "text/plain": [
              "(tensor([[ 1.2855, -1.2426, -0.3519, -0.7168],\n",
              "         [-0.3230,  0.4581, -0.9097, -0.2686],\n",
              "         [-0.0559,  0.1690, -0.4626,  0.4679],\n",
              "         [-0.1384,  1.3250,  1.3588,  0.0482]]),\n",
              " tensor([[ 0.0938,  0.5293, -0.7047, -1.2604],\n",
              "         [ 0.0306,  2.2500,  1.5359,  0.2834],\n",
              "         [ 0.3271, -2.0599, -1.3924, -1.7307],\n",
              "         [-0.8323, -0.3305,  0.9413,  1.3619]]))"
            ]
          },
          "metadata": {},
          "execution_count": 35
        }
      ]
    },
    {
      "cell_type": "code",
      "source": [
        "print(id(xx))\n",
        "xx  += yy\n",
        "print(id(xx))"
      ],
      "metadata": {
        "colab": {
          "base_uri": "https://localhost:8080/"
        },
        "id": "p5ph9VbQn7x6",
        "outputId": "dfdb2ebf-98c6-4ecc-9f70-afddb342c2b0"
      },
      "execution_count": null,
      "outputs": [
        {
          "output_type": "stream",
          "name": "stdout",
          "text": [
            "138900875781008\n",
            "138900875781008\n"
          ]
        }
      ]
    },
    {
      "cell_type": "code",
      "source": [
        "tensor1 = torch.arange(4,dtype=torch.float32).reshape(2,2)\n",
        "tensor2 = torch.arange(4,dtype=torch.float32).reshape(2,2)\n",
        "tensor1 , tensor2"
      ],
      "metadata": {
        "colab": {
          "base_uri": "https://localhost:8080/"
        },
        "id": "qOJ4BdRzpHTz",
        "outputId": "f84c7a2a-7bf1-4d88-cec4-d266ab966561"
      },
      "execution_count": null,
      "outputs": [
        {
          "output_type": "execute_result",
          "data": {
            "text/plain": [
              "(tensor([[0., 1.],\n",
              "         [2., 3.]]),\n",
              " tensor([[0., 1.],\n",
              "         [2., 3.]]))"
            ]
          },
          "metadata": {},
          "execution_count": 40
        }
      ]
    },
    {
      "cell_type": "code",
      "source": [
        "c = tensor1 * tensor2\n",
        "c"
      ],
      "metadata": {
        "colab": {
          "base_uri": "https://localhost:8080/"
        },
        "id": "k_eqbl66pU08",
        "outputId": "5c2a8546-16e3-4ede-b088-7ffa15005945"
      },
      "execution_count": null,
      "outputs": [
        {
          "output_type": "execute_result",
          "data": {
            "text/plain": [
              "tensor([[0., 1.],\n",
              "        [4., 9.]])"
            ]
          },
          "metadata": {},
          "execution_count": 43
        }
      ]
    },
    {
      "cell_type": "code",
      "source": [
        "mat1 = torch.arange(3,dtype=torch.float32).reshape(3,1)\n",
        "mat2 = torch.arange(3,dtype=torch.float32).reshape(1,3)\n",
        "\n",
        "mat1, mat2\n"
      ],
      "metadata": {
        "colab": {
          "base_uri": "https://localhost:8080/"
        },
        "id": "cMh1U-12pq93",
        "outputId": "acae4688-940a-4987-f756-19dc8c4c97e9"
      },
      "execution_count": null,
      "outputs": [
        {
          "output_type": "execute_result",
          "data": {
            "text/plain": [
              "(tensor([[0.],\n",
              "         [1.],\n",
              "         [2.]]),\n",
              " tensor([[0., 1., 2.]]))"
            ]
          },
          "metadata": {},
          "execution_count": 44
        }
      ]
    },
    {
      "cell_type": "code",
      "source": [
        "mat1 * mat2"
      ],
      "metadata": {
        "colab": {
          "base_uri": "https://localhost:8080/"
        },
        "id": "SEdmXuqSqDIG",
        "outputId": "9f78a224-f254-439d-f985-6122ec8553bd"
      },
      "execution_count": null,
      "outputs": [
        {
          "output_type": "execute_result",
          "data": {
            "text/plain": [
              "tensor([[0., 0., 0.],\n",
              "        [0., 1., 2.],\n",
              "        [0., 2., 4.]])"
            ]
          },
          "metadata": {},
          "execution_count": 45
        }
      ]
    },
    {
      "cell_type": "code",
      "source": [
        "tensor1 >= tensor2"
      ],
      "metadata": {
        "colab": {
          "base_uri": "https://localhost:8080/"
        },
        "id": "nAhD-7ysqHxc",
        "outputId": "3cf216ef-4543-44c8-8df9-121e78f0816e"
      },
      "execution_count": null,
      "outputs": [
        {
          "output_type": "execute_result",
          "data": {
            "text/plain": [
              "tensor([[True, True],\n",
              "        [True, True]])"
            ]
          },
          "metadata": {},
          "execution_count": 50
        }
      ]
    },
    {
      "cell_type": "code",
      "source": [
        "tdt1 = torch.randn(2,2,2,dtype=torch.float32)\n",
        "tdt2 = torch.randn(2,2,2,dtype=torch.float32)\n",
        "tdt1 ,tdt2"
      ],
      "metadata": {
        "colab": {
          "base_uri": "https://localhost:8080/"
        },
        "id": "9dLF63pYqqh3",
        "outputId": "31146f06-f6d8-45b8-e8e2-c9447b60031c"
      },
      "execution_count": null,
      "outputs": [
        {
          "output_type": "execute_result",
          "data": {
            "text/plain": [
              "(tensor([[[-0.1921, -1.0534],\n",
              "          [ 0.5226, -1.8571]],\n",
              " \n",
              "         [[-1.4225, -0.0814],\n",
              "          [-1.0006,  1.0714]]]),\n",
              " tensor([[[-1.4865,  1.4554],\n",
              "          [ 0.7032, -0.5707]],\n",
              " \n",
              "         [[-1.3751,  1.2351],\n",
              "          [-0.7391,  2.0406]]]))"
            ]
          },
          "metadata": {},
          "execution_count": 52
        }
      ]
    },
    {
      "cell_type": "code",
      "source": [
        "tdt3 = torch.randn(3,3,2,dtype=torch.float32)\n",
        "tdt3"
      ],
      "metadata": {
        "colab": {
          "base_uri": "https://localhost:8080/"
        },
        "id": "Dlxeltdcq446",
        "outputId": "1b2d31c3-a1a4-4ae9-f9f6-b3a9b5c27acc"
      },
      "execution_count": null,
      "outputs": [
        {
          "output_type": "execute_result",
          "data": {
            "text/plain": [
              "tensor([[[-0.0435,  0.9015],\n",
              "         [-0.1902, -0.4000],\n",
              "         [ 3.0277,  0.2325]],\n",
              "\n",
              "        [[-1.6183, -0.7118],\n",
              "         [ 1.5615, -1.6479],\n",
              "         [-0.7424, -0.7296]],\n",
              "\n",
              "        [[-1.2736,  0.3912],\n",
              "         [-0.4234, -1.7102],\n",
              "         [-0.4329,  1.5394]]])"
            ]
          },
          "metadata": {},
          "execution_count": 55
        }
      ]
    },
    {
      "cell_type": "code",
      "source": [
        "tdt3 + tdt2"
      ],
      "metadata": {
        "colab": {
          "base_uri": "https://localhost:8080/",
          "height": 164
        },
        "id": "fdPalqq9rPyH",
        "outputId": "c67fb0a2-642f-47cc-9d78-113666a2d261"
      },
      "execution_count": null,
      "outputs": [
        {
          "output_type": "error",
          "ename": "RuntimeError",
          "evalue": "The size of tensor a (3) must match the size of tensor b (2) at non-singleton dimension 1",
          "traceback": [
            "\u001b[0;31m---------------------------------------------------------------------------\u001b[0m",
            "\u001b[0;31mRuntimeError\u001b[0m                              Traceback (most recent call last)",
            "\u001b[0;32m<ipython-input-56-e7013ac23a9b>\u001b[0m in \u001b[0;36m<cell line: 1>\u001b[0;34m()\u001b[0m\n\u001b[0;32m----> 1\u001b[0;31m \u001b[0mtdt3\u001b[0m \u001b[0;34m+\u001b[0m \u001b[0mtdt2\u001b[0m\u001b[0;34m\u001b[0m\u001b[0;34m\u001b[0m\u001b[0m\n\u001b[0m",
            "\u001b[0;31mRuntimeError\u001b[0m: The size of tensor a (3) must match the size of tensor b (2) at non-singleton dimension 1"
          ]
        }
      ]
    }
  ]
}